{
 "cells": [
  {
   "cell_type": "code",
   "execution_count": null,
   "metadata": {},
   "outputs": [],
   "source": [
    "import pandas as pd\n",
    "import os\n",
    "import matplotlib.pyplot as plt"
   ]
  },
  {
   "cell_type": "code",
   "execution_count": null,
   "metadata": {
    "scrolled": true
   },
   "outputs": [],
   "source": [
    "'''\n",
    "This function extracts the Stocks mentioned above and puts them as a separate csv\n",
    "'''\n",
    "def extarct_Stocks(stocks_to_extract_list, columns_to_extract, csv_directory):\n",
    "    '''\n",
    "    Input:\n",
    "        stocks_to_extract_list -> List of all the stocks you want to extract\n",
    "        columns_to_extract -> The four columns we are interested in\n",
    "        csv_directory -> Where the Bhavcopy csv files are stored\n",
    "    Output:\n",
    "        It stores the csv of the stocks in the same directory as the program\n",
    "    '''\n",
    "    for stocks_to_extract in stocks_to_extract_list:\n",
    "        result_df = pd.DataFrame()\n",
    "\n",
    "        for filename in os.listdir(csv_directory):\n",
    "            if filename.endswith('.csv'):\n",
    "                temp = os.path.join(csv_directory, filename)\n",
    "                df = pd.read_csv(temp)\n",
    "\n",
    "                df_stock = df.loc[df['SYMBOL'].isin([stocks_to_extract]), columns_to_extract]\n",
    "\n",
    "                result_df = pd.concat([result_df, df_stock])\n",
    "        new_filename = f'{stocks_to_extract}.csv'\n",
    "        result_df.to_csv(new_filename, index=False)"
   ]
  },
  {
   "cell_type": "code",
   "execution_count": null,
   "metadata": {},
   "outputs": [],
   "source": [
    "'''\n",
    "This function plots the distributions of the 4 columns for the Stock you want\n",
    "'''\n",
    "def plot_distributions(filename):\n",
    "    '''\n",
    "    Input:\n",
    "        filename -> The csv file of the stock you want to see the distribution for\n",
    "    Output:\n",
    "        4 visualization plots\n",
    "    '''\n",
    "    df = pd.read_csv(filename)\n",
    "    column_names = ['OPEN', 'CLOSE', 'HIGH', 'LOW']\n",
    "    for column_name in column_names:\n",
    "        column_data = df[column_name]\n",
    "        #print(column_data)\n",
    "        plt.hist(column_data, bins=10)\n",
    "        plt.title(f'Distribution of {column_name} Values')\n",
    "        plt.xlabel(f'{column_name} Values')\n",
    "        plt.ylabel('Frequency')\n",
    "        plt.show()"
   ]
  },
  {
   "cell_type": "code",
   "execution_count": null,
   "metadata": {},
   "outputs": [],
   "source": [
    "if __name__ == \"__main__\":\n",
    "    stocks_to_extract_list = ['ASIANPAINT', 'JINDALSTEL', 'JPPOWER', 'ONGC']\n",
    "    columns_to_extract = ['OPEN', 'HIGH', 'LOW', 'CLOSE']\n",
    "    csv_directory = '../Bhavcopy'\n",
    "    extarct_Stocks(stocks_to_extract_list, columns_to_extract, csv_directory)\n",
    "    filename = 'JINDALSTEL.csv'\n",
    "    plot_distributions(filename)"
   ]
  },
  {
   "cell_type": "code",
   "execution_count": null,
   "metadata": {},
   "outputs": [],
   "source": []
  }
 ],
 "metadata": {
  "kernelspec": {
   "display_name": "Python 3",
   "language": "python",
   "name": "python3"
  },
  "language_info": {
   "codemirror_mode": {
    "name": "ipython",
    "version": 3
   },
   "file_extension": ".py",
   "mimetype": "text/x-python",
   "name": "python",
   "nbconvert_exporter": "python",
   "pygments_lexer": "ipython3",
   "version": "3.8.3"
  }
 },
 "nbformat": 4,
 "nbformat_minor": 4
}
