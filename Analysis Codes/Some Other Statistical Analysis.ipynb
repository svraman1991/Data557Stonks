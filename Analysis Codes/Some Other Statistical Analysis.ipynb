{
 "cells": [
  {
   "cell_type": "code",
   "execution_count": null,
   "metadata": {},
   "outputs": [],
   "source": [
    "import pandas as pd\n",
    "import numpy as np\n",
    "import matplotlib.pyplot as plt\n",
    "import seaborn as sns\n",
    "df = pd.read_csv('stock_price_data.csv')\n",
    "df.dropna(inplace=True)\n",
    "df['Date'] = pd.to_datetime(df['Date'])\n",
    "df.set_index('Date', inplace=True)\n",
    "sns.set()\n",
    "plt.figure(figsize=(10, 5))\n",
    "plt.plot(df['Close'])\n",
    "plt.title('Closing Price')\n",
    "plt.xlabel('Date')\n",
    "plt.ylabel('Price ($)')\n",
    "plt.show()\n",
    "df['Returns'] = df['Close'].pct_change()\n",
    "print(df['Returns'].describe())\n",
    "df['Rolling Mean'] = df['Returns'].rolling(window=30).mean()\n",
    "df['Rolling Std'] = df['Returns'].rolling(window=30).std()\n",
    "plt.figure(figsize=(10, 5))\n",
    "plt.plot(df['Returns'], label='Daily Returns')\n",
    "plt.plot(df['Rolling Mean'], label='Rolling Mean')\n",
    "plt.plot(df['Rolling Std'], label='Rolling Standard Deviation')\n",
    "plt.legend()\n",
    "plt.title('Daily Returns, Rolling Mean, and Rolling Standard Deviation')\n",
    "plt.xlabel('Date')\n",
    "plt.show()\n",
    "correlation_matrix = df[['Open', 'High', 'Low', 'Close', 'Volume']].corr()\n",
    "print(correlation_matrix)\n",
    "sns.heatmap(correlation_matrix, annot=True)\n",
    "plt.title('Correlation Matrix')\n",
    "plt.show()\n"
   ]
  }
 ],
 "metadata": {
  "kernelspec": {
   "display_name": "Python 3",
   "language": "python",
   "name": "python3"
  },
  "language_info": {
   "codemirror_mode": {
    "name": "ipython",
    "version": 3
   },
   "file_extension": ".py",
   "mimetype": "text/x-python",
   "name": "python",
   "nbconvert_exporter": "python",
   "pygments_lexer": "ipython3",
   "version": "3.8.3"
  }
 },
 "nbformat": 4,
 "nbformat_minor": 4
}
