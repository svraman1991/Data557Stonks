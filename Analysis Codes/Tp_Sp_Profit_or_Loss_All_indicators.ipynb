{
  "cells": [
    {
      "cell_type": "code",
      "source": [
        "# Import the required libraries\n",
        "from google.colab import drive\n",
        "import pandas as pd\n",
        "import numpy as np\n",
        "import csv"
      ],
      "metadata": {
        "id": "4kL5QFLrzh4C"
      },
      "execution_count": 1,
      "outputs": []
    },
    {
      "cell_type": "code",
      "source": [
        "drive.mount('/content/drive')"
      ],
      "metadata": {
        "colab": {
          "base_uri": "https://localhost:8080/"
        },
        "id": "NRqTGdnJzh6_",
        "outputId": "1001d934-6431-4a7e-d0ac-5d5d1d06a1b6"
      },
      "execution_count": 2,
      "outputs": [
        {
          "output_type": "stream",
          "name": "stdout",
          "text": [
            "Drive already mounted at /content/drive; to attempt to forcibly remount, call drive.mount(\"/content/drive\", force_remount=True).\n"
          ]
        }
      ]
    },
    {
      "cell_type": "code",
      "source": [
        "file_path = '/content/drive/MyDrive/557 Project - Group 44/Top100stocks_indicator.csv'\n",
        "df_all = pd.read_csv(file_path)"
      ],
      "metadata": {
        "id": "8DHublO_ztAW"
      },
      "execution_count": 3,
      "outputs": []
    },
    {
      "cell_type": "code",
      "source": [
        "# df.head\n",
        "unique_names = df_all['SYMBOL'].unique()"
      ],
      "metadata": {
        "id": "QRQeeMemzh-Z"
      },
      "execution_count": 4,
      "outputs": []
    },
    {
      "cell_type": "code",
      "source": [
        "# unique_names"
      ],
      "metadata": {
        "id": "CW50wsZM0r7z"
      },
      "execution_count": 5,
      "outputs": []
    },
    {
      "cell_type": "code",
      "execution_count": 6,
      "metadata": {
        "id": "1S3WHa32zLSR"
      },
      "outputs": [],
      "source": [
        "# df = pd.read_csv('RSI_CCI_MACD.csv')"
      ]
    },
    {
      "cell_type": "code",
      "source": [
        "# df.tail()"
      ],
      "metadata": {
        "id": "P6NkMt1P2Llw"
      },
      "execution_count": 7,
      "outputs": []
    },
    {
      "cell_type": "code",
      "execution_count": 8,
      "metadata": {
        "scrolled": true,
        "id": "y6pOwFOazLSS"
      },
      "outputs": [],
      "source": [
        "def indicator_analysis(stock, df, Start_idx, rows, indicator, threshold, percent_profit, percent_SL):\n",
        "  print(f'Performing For {stock}')\n",
        "\n",
        "  idx = Start_idx\n",
        "\n",
        "  while idx < Start_idx+len(df):\n",
        "    if df.loc[idx, indicator] >= threshold:\n",
        "      hold_idx = idx\n",
        "      count_tp_breach = 0\n",
        "      count_sl_breach = 0\n",
        "      date = None\n",
        "      buy_price = None\n",
        "      target_price = None\n",
        "      stop_loss_price = None\n",
        "      exited_value = None\n",
        "      stock_price_indicator_less_threshold = None\n",
        "      profit_or_loss = None\n",
        "\n",
        "      date = df.loc[idx, 'TIMESTAMP'] # Got the date for that particular index\n",
        "      buy_price = df.loc[idx, 'CLOSE'] # Got buy price for that particular index\n",
        "      target_price = buy_price + (percent_profit/100) * buy_price # Calculated target price for the buy price\n",
        "      stop_loss_price = buy_price - (percent_SL/100) * buy_price # Calculated stelp loss price for the buy price\n",
        "\n",
        "      while idx < Start_idx+len(df) and df.loc[idx, \"CLOSE\"] < target_price and df.loc[idx, \"CLOSE\"] > stop_loss_price:\n",
        "        idx += 1\n",
        "      \n",
        "      if idx == Start_idx+len(df):\n",
        "        break         # What to do?\n",
        "      \n",
        "      elif df.loc[idx, \"CLOSE\"] >= target_price:\n",
        "        exited_value = df.loc[idx, \"CLOSE\"]\n",
        "        count_tp_breach += 1\n",
        "      \n",
        "      elif df.loc[idx, \"CLOSE\"] <= stop_loss_price:\n",
        "        exited_value = df.loc[idx, \"CLOSE\"]\n",
        "        count_sl_breach += 1\n",
        "\n",
        "      idx1 = hold_idx+1\n",
        "      CCI_max = df.loc[hold_idx, indicator]\n",
        "      CCI_max_value = df.loc[hold_idx, \"CLOSE\"]\n",
        "      while idx1 < Start_idx+len(df):\n",
        "        if np.isnan(df.loc[idx1, indicator]) == True:\n",
        "          # print(\"F1\", df.loc[idx1, \"CLOSE\"], target_price, stop_loss_price)\n",
        "          if df.loc[idx1, \"CLOSE\"] >= target_price:\n",
        "            count_tp_breach += 1\n",
        "          elif df.loc[idx1, \"CLOSE\"] <= stop_loss_price:\n",
        "            count_sl_breach += 1\n",
        "          idx1 += 1\n",
        "\n",
        "        elif df.loc[idx1, indicator] >= threshold:\n",
        "          # print(\"F2\", df.loc[idx1, \"CLOSE\"], target_price, stop_loss_price)\n",
        "          if df.loc[idx1, \"CLOSE\"] >= target_price:\n",
        "            count_tp_breach += 1\n",
        "          elif df.loc[idx1, \"CLOSE\"] <= stop_loss_price:\n",
        "            count_sl_breach += 1\n",
        "          if df.loc[idx1, indicator] > CCI_max:\n",
        "            CCI_max_value = df.loc[idx1, \"CLOSE\"]\n",
        "            CCI_max = df.loc[idx1, indicator]\n",
        "          idx1 += 1\n",
        "\n",
        "        elif df.loc[idx1, indicator] < threshold:\n",
        "          stock_price_indicator_less_threshold = df.loc[idx1, \"CLOSE\"]\n",
        "          break\n",
        "      \n",
        "      if stock_price_indicator_less_threshold is not None and exited_value is not None:\n",
        "        profit_or_loss = stock_price_indicator_less_threshold - exited_value\n",
        "      else:\n",
        "        # print(\"SP\", stock_price_indicator_less_threshold, \"EV\", exited_value)\n",
        "        profit_or_loss = 0\n",
        "\n",
        "      rows.append([date, stock, buy_price, target_price, stop_loss_price, exited_value, count_tp_breach, count_sl_breach, stock_price_indicator_less_threshold, CCI_max_value, profit_or_loss])\n",
        "\n",
        "      idx += 1\n",
        "\n",
        "    else:\n",
        "      idx += 1\n"
      ]
    },
    {
      "cell_type": "code",
      "execution_count": 9,
      "metadata": {
        "colab": {
          "base_uri": "https://localhost:8080/"
        },
        "id": "NIeEEd22zLSU",
        "outputId": "1855c32f-6d76-4db5-f44f-cb687d6a26b8"
      },
      "outputs": [
        {
          "output_type": "stream",
          "name": "stdout",
          "text": [
            "Performing For ZOMATO\n",
            "Performing For WIPRO\n",
            "Performing For MCDOWELL-N\n",
            "Performing For ULTRACEMCO\n",
            "Performing For TORNTPHARM\n",
            "Performing For TITAN\n",
            "Performing For TECHM\n",
            "Performing For TATASTEEL\n",
            "Performing For TATAPOWER\n",
            "Performing For TATAMOTORS\n",
            "Performing For TATACONSUM\n",
            "Performing For TCS\n",
            "Performing For SUNPHARMA\n",
            "Performing For SIEMENS\n",
            "Performing For SHREECEM\n",
            "Performing For MOTHERSON\n",
            "Performing For SRF\n",
            "Performing For SBILIFE\n",
            "Performing For SBICARD\n",
            "Performing For RELIANCE\n",
            "Performing For PGHH\n",
            "Performing For POWERGRID\n",
            "Performing For PIDILITIND\n",
            "Performing For PIIND\n",
            "Performing For PAYTM\n",
            "Performing For ONGC\n",
            "Performing For NESTLEIND\n",
            "Performing For MPHASIS\n",
            "Performing For MARUTI\n",
            "Performing For MARICO\n",
            "Performing For M&M\n",
            "Performing For LICI\n",
            "Performing For LT\n",
            "Performing For LTIM\n",
            "Performing For INDIGO\n",
            "Performing For INFY\n",
            "Performing For NAUKRI\n",
            "Performing For INDUSINDBK\n",
            "Performing For INDUSTOWER\n",
            "Performing For IRCTC\n",
            "Performing For IOC\n",
            "Performing For ITC\n",
            "Performing For ICICIPRULI\n",
            "Performing For ICICIGI\n",
            "Performing For ICICIBANK\n",
            "Performing For HINDUNILVR\n",
            "Performing For HAL\n",
            "Performing For HINDALCO\n",
            "Performing For HEROMOTOCO\n",
            "Performing For HAVELLS\n",
            "Performing For HDFCLIFE\n",
            "Performing For HDFCBANK\n",
            "Performing For HDFCAMC\n",
            "Performing For HCLTECH\n",
            "Performing For GRASIM\n",
            "Performing For GODREJCP\n",
            "Performing For GLAND\n",
            "Performing For GAIL\n",
            "Performing For NYKAA\n",
            "Performing For EICHERMOT\n",
            "Performing For DRREDDY\n",
            "Performing For DIVISLAB\n",
            "Performing For DABUR\n",
            "Performing For DLF\n",
            "Performing For COLPAL\n",
            "Performing For COALINDIA\n",
            "Performing For CIPLA\n",
            "Performing For CHOLAFIN\n",
            "Performing For BOSCHLTD\n",
            "Performing For BIOCON\n",
            "Performing For BHARTIARTL\n",
            "Performing For BPCL\n",
            "Performing For BEL\n",
            "Performing For BERGEPAINT\n",
            "Performing For BANKBARODA\n",
            "Performing For BANDHANBNK\n",
            "Performing For BAJAJHLDNG\n",
            "Performing For BAJAJFINSV\n",
            "Performing For BAJFINANCE\n",
            "Performing For BAJAJ-AUTO\n",
            "Performing For AXISBANK\n",
            "Performing For DMART\n",
            "Performing For ASIANPAINT\n",
            "Performing For APOLLOHOSP\n",
            "Performing For AMBUJACEM\n",
            "Performing For ADANITRANS\n",
            "Performing For ATGL\n",
            "Performing For ADANIPORTS\n",
            "Performing For ADANIGREEN\n",
            "Performing For ADANIENT\n",
            "Performing For ACC\n"
          ]
        }
      ],
      "source": [
        "count = 0\n",
        "\n",
        "folder_path = '/content/drive/MyDrive/557 Project - Group 44/CCIDataForAllSymbols/'\n",
        "save_file_name = folder_path + \"Tp_Sp_Profit_or_Loss_CCI.csv\"\n",
        "\n",
        "headers = ['TIMESTAMP', 'Symbol', 'Buy Price', 'Target Price', 'Stop Loss Price', 'Exited At Price', 'Times stock price went above Target Price', 'Times stock price went below Stop Loss Price', 'Stock Price for CCI less than threshold', 'Stock Price at CCI Max', 'Probable Profit/Loss']\n",
        "with open(save_file_name, mode='w', newline='') as csv_file:\n",
        "  writer = csv.writer(csv_file)\n",
        "  writer.writerow(headers)\n",
        "  \n",
        "  rows = []\n",
        "  for stock in unique_names:\n",
        "    df = df_all[df_all[\"SYMBOL\"] == stock]\n",
        "    # print(\"COUNT=\", len(df) ,count)\n",
        "    indicator_analysis(stock, df, count, rows, indicator=\"CCI\", threshold=100, percent_profit=20, percent_SL=10)\n",
        "    count = count + len(df)\n",
        "\n",
        "  # print(len(rows))  \n",
        "  for row in rows:\n",
        "      writer.writerow(row)"
      ]
    },
    {
      "cell_type": "code",
      "execution_count": 10,
      "metadata": {
        "id": "6ujBSLqYzLSW"
      },
      "outputs": [],
      "source": [
        "# count = 0\n",
        "\n",
        "# folder_path = '/content/drive/MyDrive/557 Project - Group 44/RSIDataForAllSymbols/'\n",
        "# save_file_name = folder_path + \"Tp_Sp_Profit_or_Loss_CCI.csv\"\n",
        "\n",
        "# headers = ['TIMESTAMP', 'Symbol', 'Buy Price', 'Target Price', 'Stop Loss Price', 'Times stock price went above Target Price', 'Times stock price went below Stop Loss Price', 'Stock Price value less than threshold', 'RSI_Max', 'Probable Profit/Loss']\n",
        "# with open(save_file_name, mode='w', newline='') as csv_file:\n",
        "#   writer = csv.writer(csv_file)\n",
        "#   writer.writerow(headers)\n",
        "  \n",
        "#   rows = []\n",
        "#   for stock in unique_names:\n",
        "#     df = df_all[df_all[\"SYMBOL\"] == stock]\n",
        "#     # print(\"COUNT=\", len(df) ,count)\n",
        "#     indicator_analysis(stock, df, count, rows, indicator=\"RSI\", threshold=70, percent_profit=20, percent_SL=10)\n",
        "#     count = count + len(df)\n",
        "#     # break\n",
        "\n",
        "#   # print(len(rows))  \n",
        "#   for row in rows:\n",
        "#       writer.writerow(row)"
      ]
    },
    {
      "cell_type": "code",
      "execution_count": 10,
      "metadata": {
        "id": "Ww_hANnXzLSX"
      },
      "outputs": [],
      "source": []
    }
  ],
  "metadata": {
    "kernelspec": {
      "display_name": "Python 3",
      "language": "python",
      "name": "python3"
    },
    "language_info": {
      "codemirror_mode": {
        "name": "ipython",
        "version": 3
      },
      "file_extension": ".py",
      "mimetype": "text/x-python",
      "name": "python",
      "nbconvert_exporter": "python",
      "pygments_lexer": "ipython3",
      "version": "3.8.3"
    },
    "colab": {
      "provenance": []
    }
  },
  "nbformat": 4,
  "nbformat_minor": 0
}