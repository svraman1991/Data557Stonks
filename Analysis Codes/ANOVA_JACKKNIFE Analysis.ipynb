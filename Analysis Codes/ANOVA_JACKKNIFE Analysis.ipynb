{
 "cells": [
  {
   "cell_type": "code",
   "execution_count": null,
   "metadata": {},
   "outputs": [],
   "source": [
    "import pandas as pd\n",
    "import numpy as np\n",
    "from scipy import stats\n",
    "\n",
    "# Load the stock data into a pandas DataFrame\n",
    "stock_data = pd.read_csv('stock_data.csv')\n",
    "\n",
    "# Compute log returns\n",
    "stock_data['LogReturn'] = np.log(stock_data['Close']) - np.log(stock_data['Close'].shift(1))\n",
    "\n",
    "# Perform ANOVA on the log returns\n",
    "groups = pd.qcut(stock_data['LogReturn'], 5, labels=False)\n",
    "results = stats.f_oneway(*(group.dropna() for name, group in stock_data.groupby(groups)['Close']))\n",
    "\n",
    "# Perform Jackknife on the log returns\n",
    "sample_size = len(stock_data['LogReturn'])\n",
    "jackknife_estimates = []\n",
    "for i in range(sample_size):\n",
    "    jackknife_data = stock_data['LogReturn'][np.arange(sample_size) != i]\n",
    "    jackknife_estimate = np.mean(jackknife_data)\n",
    "    jackknife_estimates.append(jackknife_estimate)\n",
    "jackknife_bias = (sample_size - 1) * (np.mean(jackknife_estimates) - np.mean(stock_data['LogReturn']))\n",
    "jackknife_std_error = np.sqrt((sample_size - 1) / sample_size * np.var(jackknife_estimates))\n",
    "\n",
    "# Print the ANOVA and Jackknife results\n",
    "print('ANOVA results: F = {:.4f}, p-value = {:.4f}'.format(results.statistic, results.pvalue))\n",
    "print('Jackknife bias = {:.4f}, standard error = {:.4f}'.format(jackknife_bias, jackknife_std_error))\n"
   ]
  }
 ],
 "metadata": {
  "kernelspec": {
   "display_name": "Python 3",
   "language": "python",
   "name": "python3"
  },
  "language_info": {
   "codemirror_mode": {
    "name": "ipython",
    "version": 3
   },
   "file_extension": ".py",
   "mimetype": "text/x-python",
   "name": "python",
   "nbconvert_exporter": "python",
   "pygments_lexer": "ipython3",
   "version": "3.8.3"
  }
 },
 "nbformat": 4,
 "nbformat_minor": 4
}
