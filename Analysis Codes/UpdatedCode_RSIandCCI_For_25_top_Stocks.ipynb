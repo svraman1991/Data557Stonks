{
  "cells": [
    {
      "cell_type": "code",
      "source": [
        "# Import the required libraries\n",
        "from google.colab import drive\n",
        "import pandas as pd\n",
        "import numpy as np\n",
        "import csv"
      ],
      "metadata": {
        "id": "4kL5QFLrzh4C"
      },
      "execution_count": 1,
      "outputs": []
    },
    {
      "cell_type": "code",
      "source": [
        "drive.mount('/content/drive')"
      ],
      "metadata": {
        "colab": {
          "base_uri": "https://localhost:8080/"
        },
        "id": "NRqTGdnJzh6_",
        "outputId": "afe305e4-bbad-4acd-e1d2-0bdb83ecb701"
      },
      "execution_count": 2,
      "outputs": [
        {
          "output_type": "stream",
          "name": "stdout",
          "text": [
            "Drive already mounted at /content/drive; to attempt to forcibly remount, call drive.mount(\"/content/drive\", force_remount=True).\n"
          ]
        }
      ]
    },
    {
      "cell_type": "code",
      "source": [
        "file_path = '/content/drive/MyDrive/557 Project - Group 44/Top100stocks_indicator.csv' #NIFTYBEES.csv' #Top100stocks_indicator.csv'\n",
        "df_all = pd.read_csv(file_path)"
      ],
      "metadata": {
        "id": "8DHublO_ztAW"
      },
      "execution_count": 3,
      "outputs": []
    },
    {
      "cell_type": "code",
      "source": [
        "# df.head\n",
        "unique_names = df_all['SYMBOL'].unique()"
      ],
      "metadata": {
        "id": "QRQeeMemzh-Z"
      },
      "execution_count": 4,
      "outputs": []
    },
    {
      "cell_type": "code",
      "source": [
        "# df.head"
      ],
      "metadata": {
        "id": "jAa3WuIK9cjq"
      },
      "execution_count": 5,
      "outputs": []
    },
    {
      "cell_type": "code",
      "source": [
        "# unique_names"
      ],
      "metadata": {
        "id": "CW50wsZM0r7z"
      },
      "execution_count": 6,
      "outputs": []
    },
    {
      "cell_type": "code",
      "execution_count": 7,
      "metadata": {
        "id": "1S3WHa32zLSR"
      },
      "outputs": [],
      "source": [
        "# df = pd.read_csv('RSI_CCI_MACD.csv')"
      ]
    },
    {
      "cell_type": "code",
      "source": [
        "# df.tail()"
      ],
      "metadata": {
        "id": "P6NkMt1P2Llw"
      },
      "execution_count": 8,
      "outputs": []
    },
    {
      "cell_type": "code",
      "execution_count": 9,
      "metadata": {
        "scrolled": true,
        "id": "y6pOwFOazLSS"
      },
      "outputs": [],
      "source": [
        "def indicator_analysis(top_25_stocks, stock, df, Start_idx, rows, cci_threshold, rsi_threshold, percent_profit, percent_SL):\n",
        "  print(f'Performing For {stock}')\n",
        "\n",
        "  idx = Start_idx\n",
        "\n",
        "  while idx < Start_idx+len(df):\n",
        "    #print(idx)\n",
        "    if df.loc[idx, 'CCI'] >= cci_threshold and df.loc[idx, 'RSI'] >= rsi_threshold:\n",
        "      hold_idx = idx\n",
        "      count_tp_breach = 0\n",
        "      count_sl_breach = 0\n",
        "      date = None\n",
        "      buy_price = None\n",
        "      target_price = None\n",
        "      stop_loss_price = None\n",
        "      exited_value = None\n",
        "      stock_price_indicator_less_threshold = None\n",
        "      profit_or_loss = None\n",
        "      exited_value_date = None\n",
        "\n",
        "      date = df.loc[idx, 'TIMESTAMP'] # Got the date for that particular index\n",
        "      buy_price = df.loc[idx, 'CLOSE'] # Got buy price for that particular index\n",
        "      target_price = buy_price + (percent_profit/100) * buy_price # Calculated target price for the buy price\n",
        "      stop_loss_price = buy_price - (percent_SL/100) * buy_price # Calculated stelp loss price for the buy price\n",
        "\n",
        "      while idx < Start_idx+len(df) and df.loc[idx, \"CLOSE\"] < target_price and df.loc[idx, \"CLOSE\"] > stop_loss_price:\n",
        "        idx += 1\n",
        "      \n",
        "      if idx == Start_idx+len(df):\n",
        "        break         # What to do?\n",
        "      \n",
        "      elif df.loc[idx, \"CLOSE\"] >= target_price:\n",
        "        exited_value = df.loc[idx, \"CLOSE\"]\n",
        "        exited_value_date = df.loc[idx, \"TIMESTAMP\"]\n",
        "        count_tp_breach += 1\n",
        "      \n",
        "      elif df.loc[idx, \"CLOSE\"] <= stop_loss_price:\n",
        "        exited_value = df.loc[idx, \"CLOSE\"]\n",
        "        exited_value_date = df.loc[idx, \"TIMESTAMP\"]\n",
        "        count_sl_breach += 1\n",
        "\n",
        "      idx1 = hold_idx+1\n",
        "      # CCI_max = df.loc[hold_idx, indicator]\n",
        "      # CCI_max_value = df.loc[hold_idx, \"CLOSE\"]\n",
        "      while idx1 < Start_idx+len(df):\n",
        "        #print(\"F1\", idx1, Start_idx+len(df))\n",
        "        if np.isnan(df.loc[idx1, 'CCI']) == True or np.isnan(df.loc[idx1, 'RSI']) == True:\n",
        "          # print(\"F1\", df.loc[idx1, \"CLOSE\"], target_price, stop_loss_price)\n",
        "          if df.loc[idx1, \"CLOSE\"] >= target_price:\n",
        "            count_tp_breach += 1\n",
        "          elif df.loc[idx1, \"CLOSE\"] <= stop_loss_price:\n",
        "            count_sl_breach += 1\n",
        "          idx1 += 1\n",
        "\n",
        "        elif df.loc[idx, 'CCI'] >= cci_threshold and df.loc[idx, 'RSI'] >= rsi_threshold:\n",
        "          # print(\"F2\", df.loc[idx1, \"CLOSE\"], target_price, stop_loss_price)\n",
        "          if df.loc[idx1, \"CLOSE\"] >= target_price:\n",
        "            count_tp_breach += 1\n",
        "          elif df.loc[idx1, \"CLOSE\"] <= stop_loss_price:\n",
        "            count_sl_breach += 1\n",
        "          # if df.loc[idx1, 'CCI'] > CCI_max:\n",
        "            # CCI_max_value = df.loc[idx1, \"CLOSE\"]\n",
        "            # CCI_max = df.loc[idx1, 'CCI']\n",
        "          idx1 += 1\n",
        "\n",
        "        elif df.loc[idx1, 'CCI'] < cci_threshold or df.loc[idx1, 'RSI'] < rsi_threshold:\n",
        "          stock_price_indicator_less_threshold = df.loc[idx1, \"CLOSE\"]\n",
        "          break\n",
        "        else:\n",
        "          idx1 += 1\n",
        "      \n",
        "      if stock_price_indicator_less_threshold is not None and exited_value is not None:\n",
        "        profit_or_loss = stock_price_indicator_less_threshold - exited_value\n",
        "      else:\n",
        "        # print(\"SP\", stock_price_indicator_less_threshold, \"EV\", exited_value)\n",
        "        profit_or_loss = 0\n",
        "\n",
        "      if stock in top_25_stocks:\n",
        "        rows.append([date, stock, buy_price, target_price, stop_loss_price, exited_value, exited_value_date, count_tp_breach, count_sl_breach])\n",
        "\n",
        "      idx += 1\n",
        "\n",
        "    else:\n",
        "      idx += 1\n"
      ]
    },
    {
      "cell_type": "code",
      "source": [
        "top_25_stocks = set()\n",
        "top_25_stocks.add('RELIANCE')\n",
        "top_25_stocks.add('ICICIBANK')\n",
        "top_25_stocks.add('TATAMOTORS')\n",
        "top_25_stocks.add('ZOMATO')\n",
        "top_25_stocks.add('AXISBANK')\n",
        "top_25_stocks.add('INFY')\n",
        "top_25_stocks.add('HDFCBANK')\n",
        "top_25_stocks.add('ITC')\n",
        "top_25_stocks.add('PAYTM')\n",
        "top_25_stocks.add('TCS')\n",
        "top_25_stocks.add('BHARTIARTL')\n",
        "top_25_stocks.add('INDUSINDBK')\n",
        "top_25_stocks.add('IRCTC')\n",
        "top_25_stocks.add('BAJFINANCE')\n",
        "top_25_stocks.add('SUNPHARMA')\n",
        "top_25_stocks.add('LT')\n",
        "top_25_stocks.add('HCLTECH')\n",
        "top_25_stocks.add('HINDALCO')\n",
        "top_25_stocks.add('MARUTI')\n",
        "top_25_stocks.add('TATASTEEL')\n",
        "top_25_stocks.add('BANDHANBNK')\n",
        "top_25_stocks.add('HINDUNILVR')\n",
        "top_25_stocks.add('BPCL')\n",
        "top_25_stocks.add('WIPRO')\n",
        "top_25_stocks.add('ONGC')\n",
        "print(top_25_stocks)"
      ],
      "metadata": {
        "colab": {
          "base_uri": "https://localhost:8080/"
        },
        "id": "jhTpPlzJRzTt",
        "outputId": "2830904a-ede9-47f2-f1bd-231edca6d4f7"
      },
      "execution_count": 10,
      "outputs": [
        {
          "output_type": "stream",
          "name": "stdout",
          "text": [
            "{'ICICIBANK', 'AXISBANK', 'TATASTEEL', 'SUNPHARMA', 'BANDHANBNK', 'ONGC', 'HINDUNILVR', 'HINDALCO', 'ITC', 'RELIANCE', 'ZOMATO', 'IRCTC', 'BAJFINANCE', 'BPCL', 'HDFCBANK', 'TATAMOTORS', 'INFY', 'WIPRO', 'MARUTI', 'TCS', 'LT', 'PAYTM', 'BHARTIARTL', 'INDUSINDBK', 'HCLTECH'}\n"
          ]
        }
      ]
    },
    {
      "cell_type": "code",
      "execution_count": 11,
      "metadata": {
        "colab": {
          "base_uri": "https://localhost:8080/"
        },
        "id": "NIeEEd22zLSU",
        "outputId": "ab47eb3c-3fac-4f40-83e3-659edec390cc"
      },
      "outputs": [
        {
          "output_type": "stream",
          "name": "stdout",
          "text": [
            "Performing For ZOMATO\n",
            "Performing For WIPRO\n",
            "Performing For MCDOWELL-N\n",
            "Performing For ULTRACEMCO\n",
            "Performing For TORNTPHARM\n",
            "Performing For TITAN\n",
            "Performing For TECHM\n",
            "Performing For TATASTEEL\n",
            "Performing For TATAPOWER\n",
            "Performing For TATAMOTORS\n",
            "Performing For TATACONSUM\n",
            "Performing For TCS\n",
            "Performing For SUNPHARMA\n",
            "Performing For SIEMENS\n",
            "Performing For SHREECEM\n",
            "Performing For MOTHERSON\n",
            "Performing For SRF\n",
            "Performing For SBILIFE\n",
            "Performing For SBICARD\n",
            "Performing For RELIANCE\n",
            "Performing For PGHH\n",
            "Performing For POWERGRID\n",
            "Performing For PIDILITIND\n",
            "Performing For PIIND\n",
            "Performing For PAYTM\n",
            "Performing For ONGC\n",
            "Performing For NESTLEIND\n",
            "Performing For MPHASIS\n",
            "Performing For MARUTI\n",
            "Performing For MARICO\n",
            "Performing For M&M\n",
            "Performing For LICI\n",
            "Performing For LT\n",
            "Performing For LTIM\n",
            "Performing For INDIGO\n",
            "Performing For INFY\n",
            "Performing For NAUKRI\n",
            "Performing For INDUSINDBK\n",
            "Performing For INDUSTOWER\n",
            "Performing For IRCTC\n",
            "Performing For IOC\n",
            "Performing For ITC\n",
            "Performing For ICICIPRULI\n",
            "Performing For ICICIGI\n",
            "Performing For ICICIBANK\n",
            "Performing For HINDUNILVR\n",
            "Performing For HAL\n",
            "Performing For HINDALCO\n",
            "Performing For HEROMOTOCO\n",
            "Performing For HAVELLS\n",
            "Performing For HDFCLIFE\n",
            "Performing For HDFCBANK\n",
            "Performing For HDFCAMC\n",
            "Performing For HCLTECH\n",
            "Performing For GRASIM\n",
            "Performing For GODREJCP\n",
            "Performing For GLAND\n",
            "Performing For GAIL\n",
            "Performing For NYKAA\n",
            "Performing For EICHERMOT\n",
            "Performing For DRREDDY\n",
            "Performing For DIVISLAB\n",
            "Performing For DABUR\n",
            "Performing For DLF\n",
            "Performing For COLPAL\n",
            "Performing For COALINDIA\n",
            "Performing For CIPLA\n",
            "Performing For CHOLAFIN\n",
            "Performing For BOSCHLTD\n",
            "Performing For BIOCON\n",
            "Performing For BHARTIARTL\n",
            "Performing For BPCL\n",
            "Performing For BEL\n",
            "Performing For BERGEPAINT\n",
            "Performing For BANKBARODA\n",
            "Performing For BANDHANBNK\n",
            "Performing For BAJAJHLDNG\n",
            "Performing For BAJAJFINSV\n",
            "Performing For BAJFINANCE\n",
            "Performing For BAJAJ-AUTO\n",
            "Performing For AXISBANK\n",
            "Performing For DMART\n",
            "Performing For ASIANPAINT\n",
            "Performing For APOLLOHOSP\n",
            "Performing For AMBUJACEM\n",
            "Performing For ADANITRANS\n",
            "Performing For ATGL\n",
            "Performing For ADANIPORTS\n",
            "Performing For ADANIGREEN\n",
            "Performing For ADANIENT\n",
            "Performing For ACC\n"
          ]
        }
      ],
      "source": [
        "count = 0\n",
        "\n",
        "# new_df = pd.read_csv('/content/drive/MyDrive/557 Project - Group 44/Top 25 stocks.xlsx')\n",
        "# top_25_stocks = new_df['Symbol']\n",
        "\n",
        "folder_path = '/content/drive/MyDrive/557 Project - Group 44/CCIDataForAllSymbols/'\n",
        "save_file_name = folder_path + \"Tp_Sp_Profit_or_Loss_CCI_new.csv\"\n",
        "\n",
        "headers = ['TIMESTAMP', 'Symbol', 'Buy Price', 'Target Price', 'Stop Loss Price', 'Exited At Price', 'Exited Date', 'Times stock price went above Target Price', 'Times stock price went below Stop Loss Price']\n",
        "with open(save_file_name, mode='w', newline='') as csv_file:\n",
        "  writer = csv.writer(csv_file)\n",
        "  writer.writerow(headers)\n",
        "  \n",
        "  rows = []\n",
        "  for stock in unique_names:\n",
        "    df = df_all[df_all[\"SYMBOL\"] == stock]\n",
        "    # print(\"COUNT=\", len(df) ,count)\n",
        "    indicator_analysis(top_25_stocks, stock, df, count, rows, cci_threshold=110, rsi_threshold=61, percent_profit=30, percent_SL=7)\n",
        "    count = count + len(df)\n",
        "\n",
        "  # print(len(rows))  \n",
        "  for row in rows:\n",
        "      writer.writerow(row)"
      ]
    },
    {
      "cell_type": "code",
      "execution_count": 11,
      "metadata": {
        "id": "Ww_hANnXzLSX"
      },
      "outputs": [],
      "source": []
    }
  ],
  "metadata": {
    "kernelspec": {
      "display_name": "Python 3",
      "language": "python",
      "name": "python3"
    },
    "language_info": {
      "codemirror_mode": {
        "name": "ipython",
        "version": 3
      },
      "file_extension": ".py",
      "mimetype": "text/x-python",
      "name": "python",
      "nbconvert_exporter": "python",
      "pygments_lexer": "ipython3",
      "version": "3.8.3"
    },
    "colab": {
      "provenance": []
    }
  },
  "nbformat": 4,
  "nbformat_minor": 0
}